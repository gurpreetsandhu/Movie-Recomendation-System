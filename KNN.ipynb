{
 "cells": [
  {
   "cell_type": "code",
   "execution_count": 1,
   "metadata": {},
   "outputs": [],
   "source": [
    "import pickle\n",
    "import numpy as np"
   ]
  },
  {
   "cell_type": "code",
   "execution_count": 2,
   "metadata": {},
   "outputs": [],
   "source": [
    "vectors = pickle.load(open('f1_phase2','rb'))\n",
    "user_dict = pickle.load(open('user_ratings_dict','rb'))\n",
    "mapping = pickle.load(open('mapping','rb'))"
   ]
  },
  {
   "cell_type": "code",
   "execution_count": 3,
   "metadata": {},
   "outputs": [],
   "source": [
    "vectors = vectors + np.unique(vectors)[1]"
   ]
  },
  {
   "cell_type": "code",
   "execution_count": 4,
   "metadata": {},
   "outputs": [],
   "source": [
    "def get_vectors_for_KNN(vectors, mapping, user_dict):\n",
    "    map_user = []\n",
    "    all_vector = []\n",
    "    user_movie_map = []\n",
    "    true_ratings = []\n",
    "    for i in user_dict.keys():\n",
    "        map_user.append(i)\n",
    "        temp = []\n",
    "        temp_rating = []\n",
    "        temp_map = []\n",
    "        for j in user_dict[i].keys():\n",
    "            temp_map.append(j)\n",
    "            temp_rating.append(user_dict[i][j])\n",
    "            indx = mapping.index(j)\n",
    "            temp_vector = vectors[indx]/np.linalg.norm(vectors[indx])\n",
    "            temp.append(temp_vector)\n",
    "        all_vector.append(np.array(temp))\n",
    "        user_movie_map.append(temp_map)\n",
    "        true_ratings.append(temp_rating)\n",
    "    return all_vector, user_movie_map, true_ratings, map_user"
   ]
  },
  {
   "cell_type": "code",
   "execution_count": null,
   "metadata": {},
   "outputs": [],
   "source": [
    "def test_KNN(test)"
   ]
  },
  {
   "cell_type": "code",
   "execution_count": 5,
   "metadata": {},
   "outputs": [
    {
     "data": {
      "text/plain": [
       "(4320, 3422)"
      ]
     },
     "execution_count": 5,
     "metadata": {},
     "output_type": "execute_result"
    }
   ],
   "source": [
    "vectors.shape"
   ]
  },
  {
   "cell_type": "code",
   "execution_count": 6,
   "metadata": {},
   "outputs": [],
   "source": [
    "all_vector, user_movie_map, true_ratings, map_user = get_vectors_for_KNN(vectors, mapping, user_dict)"
   ]
  },
  {
   "cell_type": "code",
   "execution_count": 11,
   "metadata": {},
   "outputs": [],
   "source": [
    "for i in range(len(vectors)):\n",
    "    if np.linalg.norm(vectors[i]) == 0:\n",
    "        print(i)"
   ]
  },
  {
   "cell_type": "code",
   "execution_count": 9,
   "metadata": {},
   "outputs": [
    {
     "data": {
      "text/plain": [
       "array([0.])"
      ]
     },
     "execution_count": 9,
     "metadata": {},
     "output_type": "execute_result"
    }
   ],
   "source": [
    "np.unique(vectors[3896])"
   ]
  },
  {
   "cell_type": "code",
   "execution_count": null,
   "metadata": {},
   "outputs": [],
   "source": []
  }
 ],
 "metadata": {
  "kernelspec": {
   "display_name": "Python 3",
   "language": "python",
   "name": "python3"
  },
  "language_info": {
   "codemirror_mode": {
    "name": "ipython",
    "version": 3
   },
   "file_extension": ".py",
   "mimetype": "text/x-python",
   "name": "python",
   "nbconvert_exporter": "python",
   "pygments_lexer": "ipython3",
   "version": "3.7.1"
  }
 },
 "nbformat": 4,
 "nbformat_minor": 2
}
